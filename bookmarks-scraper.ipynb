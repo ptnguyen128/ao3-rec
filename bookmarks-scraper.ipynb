{
 "cells": [
  {
   "cell_type": "code",
   "execution_count": 1,
   "metadata": {},
   "outputs": [
    {
     "name": "stderr",
     "output_type": "stream",
     "text": [
      "usage: ipykernel_launcher.py [-h] [--username USERNAME] [--out_csv OUT_CSV] [--multichapter_only {yes,no}]\n",
      "ipykernel_launcher.py: error: unrecognized arguments: -f C:\\Users\\Thao\\AppData\\Roaming\\jupyter\\runtime\\kernel-3776ee71-b1e5-48eb-b947-334539094703.json\n"
     ]
    },
    {
     "ename": "SystemExit",
     "evalue": "2",
     "output_type": "error",
     "traceback": [
      "An exception has occurred, use %tb to see the full traceback.\n",
      "\u001b[1;31mSystemExit\u001b[0m\u001b[1;31m:\u001b[0m 2\n"
     ]
    },
    {
     "name": "stderr",
     "output_type": "stream",
     "text": [
      "C:\\Users\\Thao\\anaconda3\\lib\\site-packages\\IPython\\core\\interactiveshell.py:3351: UserWarning: To exit: use 'exit', 'quit', or Ctrl-D.\n",
      "  warn(\"To exit: use 'exit', 'quit', or Ctrl-D.\", stacklevel=1)\n"
     ]
    }
   ],
   "source": [
    "from bs4 import BeautifulSoup\n",
    "import re\n",
    "import time\n",
    "import datetime\n",
    "import requests\n",
    "import csv\n",
    "\n",
    "import pandas as pd\n",
    "\n",
    "from test_funcs import get_ids"
   ]
  },
  {
   "cell_type": "code",
   "execution_count": null,
   "metadata": {},
   "outputs": [],
   "source": [
    "page_empty = False\n",
    "username = \"incessantbeat\"\n",
    "url = f'https://archiveofourown.org/users/{username}/bookmarks'\n",
    "num_requested_fic = 0\n",
    "num_recorded_fic = 0\n",
    "csv_name = \"\"\n",
    "multichap_only = False\n",
    "tags = []\n",
    "\n",
    "# keep track of all processed ids to avoid repeats:\n",
    "# this is separate from the temporary batch of ids\n",
    "# that are written to the csv and then forgotten\n",
    "seen_ids = []"
   ]
  },
  {
   "cell_type": "markdown",
   "metadata": {},
   "source": [
    "# Parse args"
   ]
  },
  {
   "cell_type": "markdown",
   "metadata": {},
   "source": [
    "# Find work ids"
   ]
  },
  {
   "cell_type": "code",
   "execution_count": null,
   "metadata": {},
   "outputs": [],
   "source": []
  }
 ],
 "metadata": {
  "kernelspec": {
   "display_name": "Python 3",
   "language": "python",
   "name": "python3"
  },
  "language_info": {
   "codemirror_mode": {
    "name": "ipython",
    "version": 3
   },
   "file_extension": ".py",
   "mimetype": "text/x-python",
   "name": "python",
   "nbconvert_exporter": "python",
   "pygments_lexer": "ipython3",
   "version": "3.8.3"
  }
 },
 "nbformat": 4,
 "nbformat_minor": 4
}
